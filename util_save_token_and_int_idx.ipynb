{
 "cells": [
  {
   "cell_type": "markdown",
   "metadata": {},
   "source": [
    "# Save tokeniser and int_index to disk"
   ]
  },
  {
   "cell_type": "markdown",
   "metadata": {},
   "source": [
    "## Retrieve data from disk"
   ]
  },
  {
   "cell_type": "code",
   "execution_count": 1,
   "metadata": {},
   "outputs": [],
   "source": [
    "import pandas as pd\n",
    "\n",
    "data_dir = \"/home/aa043/sea/gpu_data/data/vul/\"\n",
    "\n",
    "comment_df_raw = pd.read_csv(data_dir+\"comments.csv\")\n",
    "answer_df_raw = pd.read_csv(data_dir+\"answers.csv\")"
   ]
  },
  {
   "cell_type": "markdown",
   "metadata": {},
   "source": [
    "## Remove duplicated comments and SO answers"
   ]
  },
  {
   "cell_type": "code",
   "execution_count": 2,
   "metadata": {},
   "outputs": [],
   "source": [
    "comment_df = comment_df_raw.drop_duplicates(subset='comment_id')\n",
    "answer_df = answer_df_raw.drop_duplicates(subset='AnswerId')"
   ]
  },
  {
   "cell_type": "markdown",
   "metadata": {},
   "source": [
    "## Make comment/answer dictonaries (ID and text)"
   ]
  },
  {
   "cell_type": "markdown",
   "metadata": {},
   "source": [
    "#### Processing"
   ]
  },
  {
   "cell_type": "code",
   "execution_count": 3,
   "metadata": {},
   "outputs": [],
   "source": [
    "# Convert dataframe to dictionary\n",
    "comment_dict_raw = comment_df.set_index(\"comment_id\").T.to_dict(\"list\")\n",
    "answer_dict_raw = answer_df.set_index(\"AnswerId\").T.to_dict(\"list\")\n",
    "# Make Dictionay have only ID and text\n",
    "comment_dict = {key: value[1] for key, value in comment_dict_raw.items()}\n",
    "answer_dict = {key: value[1] for key, value in answer_dict_raw.items()}"
   ]
  },
  {
   "cell_type": "markdown",
   "metadata": {},
   "source": [
    "## Text Tokenisation"
   ]
  },
  {
   "cell_type": "markdown",
   "metadata": {},
   "source": [
    "#### Processing"
   ]
  },
  {
   "cell_type": "code",
   "execution_count": 4,
   "metadata": {},
   "outputs": [
    {
     "name": "stderr",
     "output_type": "stream",
     "text": [
      "Using TensorFlow backend.\n"
     ]
    }
   ],
   "source": [
    "from keras.preprocessing.text import Tokenizer\n",
    "\n",
    "# Extract texts \n",
    "comments = list(comment_dict.values())\n",
    "answers = list(answer_dict.values())\n",
    "\n",
    "# Tokenisation\n",
    "# Filter out these characters\n",
    "filter_chars = '!\"#$%&()*+,-./:;<=>?@[\\\\]^_`{|}~\\t\\n\\''\n",
    "# Create tokeniser\n",
    "doc_t = Tokenizer(filters=filter_chars)\n",
    "# fit tokenizers to the documents (commenst and SO answers)\n",
    "doc_t.fit_on_texts(comments+answers)"
   ]
  },
  {
   "cell_type": "markdown",
   "metadata": {},
   "source": [
    "#### Create int_index"
   ]
  },
  {
   "cell_type": "code",
   "execution_count": 5,
   "metadata": {},
   "outputs": [],
   "source": [
    "int_index = {y: x for x, y in doc_t.word_index.items()}"
   ]
  },
  {
   "cell_type": "markdown",
   "metadata": {},
   "source": [
    "#### Save tokeniser and int_index to disk"
   ]
  },
  {
   "cell_type": "code",
   "execution_count": 6,
   "metadata": {},
   "outputs": [
    {
     "name": "stdout",
     "output_type": "stream",
     "text": [
      "Tokeniser saved to disk\n",
      "int_index saved to disk\n"
     ]
    }
   ],
   "source": [
    "import pickle\n",
    "\n",
    "with open(data_dir+'doc_tokeniser.pkl', 'wb') as f:\n",
    "        pickle.dump(doc_t, f)\n",
    "print(\"Tokeniser saved to disk\")\n",
    "\n",
    "with open(data_dir+'int_index.pkl', 'wb') as f:\n",
    "        pickle.dump(int_index, f)\n",
    "print(\"int_index saved to disk\")"
   ]
  },
  {
   "cell_type": "code",
   "execution_count": null,
   "metadata": {},
   "outputs": [],
   "source": []
  }
 ],
 "metadata": {
  "kernelspec": {
   "display_name": "Python (tf)",
   "language": "python",
   "name": "tf"
  },
  "language_info": {
   "codemirror_mode": {
    "name": "ipython",
    "version": 3
   },
   "file_extension": ".py",
   "mimetype": "text/x-python",
   "name": "python",
   "nbconvert_exporter": "python",
   "pygments_lexer": "ipython3",
   "version": "3.7.7"
  }
 },
 "nbformat": 4,
 "nbformat_minor": 4
}
