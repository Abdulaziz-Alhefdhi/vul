{
 "cells": [
  {
   "cell_type": "markdown",
   "metadata": {},
   "source": [
    "# Check the correctness of the created comment/answer vectors"
   ]
  },
  {
   "cell_type": "markdown",
   "metadata": {},
   "source": [
    "## Retrieve data from disk"
   ]
  },
  {
   "cell_type": "code",
   "execution_count": 1,
   "metadata": {},
   "outputs": [
    {
     "name": "stdout",
     "output_type": "stream",
     "text": [
      "Loading comments and SO answers...\n",
      "Loading integer index...\n",
      "Loading comment vectors...\n",
      "It took (h:m:s) 0:00:10 to load comment vectors\n",
      "Loading answer vectors...\n",
      "It took (h:m:s) 0:02:36 to load answer vectors\n"
     ]
    }
   ],
   "source": [
    "import pandas as pd\n",
    "import pickle\n",
    "import datetime\n",
    "\n",
    "\n",
    "data_dir = \"/home/aa043/sea/gpu_data/data/vul/\"\n",
    "vector_type = \"tfidf\"\n",
    "\n",
    "print('Loading comments and SO answers...')\n",
    "comment_df_raw = pd.read_csv(data_dir+\"comments.csv\")\n",
    "answer_df_raw = pd.read_csv(data_dir+\"answers.csv\")\n",
    "\n",
    "print('Loading integer index...')\n",
    "with open(data_dir+'int_index.pkl', 'rb') as f:\n",
    "        int_index = pickle.load(f)\n",
    "\n",
    "print('Loading comment vectors...')\n",
    "start_time = datetime.datetime.now().replace(microsecond=0)\n",
    "with open(data_dir+'comment_'+vector_type+'_vectors.pkl', 'rb') as f:\n",
    "        com_vec_dict = pickle.load(f)\n",
    "end_time = datetime.datetime.now().replace(microsecond=0)\n",
    "print(\"It took (h:m:s)\", end_time - start_time, \"to load comment vectors\")\n",
    "start_time = datetime.datetime.now().replace(microsecond=0)\n",
    "print('Loading answer vectors...')\n",
    "with open(data_dir+'answer_'+vector_type+'_vectors.pkl', 'rb') as f:\n",
    "        ans_vec_dict = pickle.load(f)\n",
    "end_time = datetime.datetime.now().replace(microsecond=0)\n",
    "print(\"It took (h:m:s)\", end_time - start_time, \"to load answer vectors\")"
   ]
  },
  {
   "cell_type": "markdown",
   "metadata": {},
   "source": [
    "## Remove duplicated comments and SO answers"
   ]
  },
  {
   "cell_type": "code",
   "execution_count": 2,
   "metadata": {},
   "outputs": [],
   "source": [
    "comment_df = comment_df_raw.drop_duplicates(subset='comment_id')\n",
    "answer_df = answer_df_raw.drop_duplicates(subset='AnswerId')"
   ]
  },
  {
   "cell_type": "markdown",
   "metadata": {},
   "source": [
    "## Make comment/answer dictonaries (ID and text)"
   ]
  },
  {
   "cell_type": "markdown",
   "metadata": {},
   "source": [
    "#### Processing"
   ]
  },
  {
   "cell_type": "code",
   "execution_count": 3,
   "metadata": {},
   "outputs": [],
   "source": [
    "# Convert dataframe to dictionary\n",
    "comment_dict_raw = comment_df.set_index(\"comment_id\").T.to_dict(\"list\")\n",
    "answer_dict_raw = answer_df.set_index(\"AnswerId\").T.to_dict(\"list\")\n",
    "# Make Dictionay have only ID and text\n",
    "comment_dict = {key: value[1] for key, value in comment_dict_raw.items()}\n",
    "answer_dict = {key: value[1] for key, value in answer_dict_raw.items()}"
   ]
  },
  {
   "cell_type": "markdown",
   "metadata": {},
   "source": [
    "## Test Comments and SO Answers"
   ]
  },
  {
   "cell_type": "markdown",
   "metadata": {},
   "source": [
    "#### Test a comment"
   ]
  },
  {
   "cell_type": "code",
   "execution_count": 4,
   "metadata": {},
   "outputs": [
    {
     "name": "stdout",
     "output_type": "stream",
     "text": [
      "// http://www.ietf.org/rfc/rfc1991.txt\n",
      "{'http': 0.863308414882052, 'org': 0.8079326542235203, 'rfc': 1.0435801096798, 'ietf': 1.0518054398316954, 'www': 1.0858703115712187, 'txt': 1.8546960017115999, 'rfc1991': 9.050640993218508}\n"
     ]
    }
   ],
   "source": [
    "test_loc = 1165\n",
    "print(comment_dict[test_loc])\n",
    "i = 0\n",
    "test_words = {}\n",
    "for value in com_vec_dict[test_loc]:\n",
    "    if value != 0:\n",
    "        test_words[int_index[i]] = value\n",
    "    i += 1\n",
    "print(test_words)"
   ]
  },
  {
   "cell_type": "markdown",
   "metadata": {},
   "source": [
    "#### Test an SO Answer"
   ]
  },
  {
   "cell_type": "code",
   "execution_count": 5,
   "metadata": {},
   "outputs": [
    {
     "name": "stdout",
     "output_type": "stream",
     "text": [
      "<p><a href=\"http://www.gnupg.org/related_software/gpgme/index.en.html\" rel=\"nofollow noreferrer\">GPGme</a>. Simple to use and compatible with the <a href=\"http://www.ietf.org/rfc/rfc4880.txt\" rel=\"nofollow noreferrer\">OpenPGP format</a></p>\n",
      "\n",
      "{'the': 0.734788699140412, 'p': 1.2150320655944524, 'a': 1.7206635530551664, 'to': 0.7785175023712089, 'and': 0.8723686080476383, 'http': 1.4617082086112219, 'href': 1.3205125390329544, 'rel': 1.3905568929824847, 'org': 1.3679488955808667, 'nofollow': 1.5256573490465497, 'html': 0.9012136792493759, 'with': 1.0945354728009946, 'noreferrer': 2.0835174983883764, 'rfc': 1.0435801096798, 'ietf': 1.0518054398316954, 'www': 1.8385382564905584, 'use': 1.2570817816472315, 'format': 2.1928216511226992, 'en': 2.0793731024367474, 'txt': 1.8546960017115999, 'simple': 3.04411280768809, 'index': 3.5842416604868452, 'related': 3.5566787336751187, 'software': 3.7608563746417674, 'compatible': 4.415099834841462, 'openpgp': 5.757849695926477, 'rfc4880': 5.875281792818073, 'gnupg': 6.624104286485574, 'gpgme': 13.663710018119897}\n"
     ]
    }
   ],
   "source": [
    "test_loc = 183332\n",
    "print(answer_dict[test_loc])\n",
    "i = 0\n",
    "test_words = {}\n",
    "for value in ans_vec_dict[test_loc]:\n",
    "    if value != 0:\n",
    "        test_words[int_index[i]] = value\n",
    "    i += 1\n",
    "print(test_words)"
   ]
  },
  {
   "cell_type": "code",
   "execution_count": null,
   "metadata": {},
   "outputs": [],
   "source": []
  }
 ],
 "metadata": {
  "kernelspec": {
   "display_name": "Python (tf)",
   "language": "python",
   "name": "tf"
  },
  "language_info": {
   "codemirror_mode": {
    "name": "ipython",
    "version": 3
   },
   "file_extension": ".py",
   "mimetype": "text/x-python",
   "name": "python",
   "nbconvert_exporter": "python",
   "pygments_lexer": "ipython3",
   "version": "3.7.7"
  }
 },
 "nbformat": 4,
 "nbformat_minor": 4
}
