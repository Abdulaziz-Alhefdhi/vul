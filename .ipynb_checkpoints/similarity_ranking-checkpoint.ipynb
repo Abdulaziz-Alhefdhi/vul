{
 "cells": [
  {
   "cell_type": "markdown",
   "metadata": {},
   "source": [
    "## Specify data location\n",
    "\n",
    "'vector_type' options:\n",
    "1. \"tfidf\"\n",
    "2. \"freq\"\n",
    "3. \"count\"\n",
    "4. \"binary\""
   ]
  },
  {
   "cell_type": "code",
   "execution_count": 1,
   "metadata": {},
   "outputs": [],
   "source": [
    "data_dir = \"/home/aa043/sea/gpu_data/data/vul/\"\n",
    "vector_type = \"tfidf\""
   ]
  },
  {
   "cell_type": "markdown",
   "metadata": {},
   "source": [
    "## Load data\n",
    "#### It may take long to load the comment vectors and (specially) the SO answer vectors\n",
    "It took about 3 minutes in my PC"
   ]
  },
  {
   "cell_type": "code",
   "execution_count": 2,
   "metadata": {},
   "outputs": [
    {
     "name": "stdout",
     "output_type": "stream",
     "text": [
      "Loading comment vectors...\n",
      "It took (h:m:s) 0:00:10 to load comment vectors\n",
      "Loading answer vectors...\n",
      "It took (h:m:s) 0:02:37 to load answer vectors\n"
     ]
    }
   ],
   "source": [
    "import pickle\n",
    "import datetime\n",
    "\n",
    "start_time = datetime.datetime.now().replace(microsecond=0)\n",
    "print('Loading comment vectors...')\n",
    "with open(data_dir+'comment_'+vector_type+'_vectors.pkl', 'rb') as f:\n",
    "        com_vec_dict = pickle.load(f)\n",
    "end_time = datetime.datetime.now().replace(microsecond=0)\n",
    "print(\"It took (h:m:s)\", end_time - start_time, \"to load comment vectors\")\n",
    "start_time = datetime.datetime.now().replace(microsecond=0)\n",
    "print('Loading answer vectors...')\n",
    "with open(data_dir+'answer_'+vector_type+'_vectors.pkl', 'rb') as f:\n",
    "        ans_vec_dict = pickle.load(f)\n",
    "end_time = datetime.datetime.now().replace(microsecond=0)\n",
    "print(\"It took (h:m:s)\", end_time - start_time, \"to load answer vectors\")"
   ]
  },
  {
   "cell_type": "code",
   "execution_count": 26,
   "metadata": {},
   "outputs": [
    {
     "name": "stdout",
     "output_type": "stream",
     "text": [
      "1577\n",
      "23992\n",
      "25569\n",
      "[1165, 1166, 45, 85, 109]\n",
      "[43464438, 90959, 183332, 557046, 1307427]\n",
      "89815\n",
      "89815\n",
      "[0.         1.75342213 2.36999289 ... 0.         0.         0.        ]\n"
     ]
    }
   ],
   "source": [
    "print(len(com_vec_dict))\n",
    "print(len(ans_vec_dict))\n",
    "print(len(com_vec_dict)+len(ans_vec_dict))\n",
    "print(list(com_vec_dict.keys())[:5])\n",
    "print(list(ans_vec_dict.keys())[:5])\n",
    "print(len(com_vec_dict[109]))\n",
    "print(len(ans_vec_dict[1307427]))\n",
    "print(ans_vec_dict[1307427])"
   ]
  },
  {
   "cell_type": "markdown",
   "metadata": {},
   "source": [
    "## Similarity Function"
   ]
  },
  {
   "cell_type": "markdown",
   "metadata": {},
   "source": [
    "#### Accepts a comment vector and a dictionary of answer IDs and vectors\n",
    "#### Return a dictionary of rankings and the IDs associated with every ranking\n",
    "(The smaller the most similar)"
   ]
  },
  {
   "cell_type": "code",
   "execution_count": 5,
   "metadata": {
    "scrolled": true
   },
   "outputs": [],
   "source": [
    "from scipy import spatial\n",
    "from collections import defaultdict, OrderedDict\n",
    "\n",
    "def rank_cosine_similarity(comment, answers):\n",
    "    sim_dict = defaultdict(list)\n",
    "    for ans_id, ans_vec in answers.items():\n",
    "        sim_dict[1-spatial.distance.cosine(comment, ans_vec)].append(ans_id)\n",
    "    sorted_sim = OrderedDict(sorted(sim_dict.items(), reverse=True))\n",
    "    \n",
    "    return {i+1: ans_ids for i, ans_ids in enumerate(sorted_sim.values())}"
   ]
  },
  {
   "cell_type": "markdown",
   "metadata": {},
   "source": [
    "### Usage example 1"
   ]
  },
  {
   "cell_type": "markdown",
   "metadata": {},
   "source": [
    "Uncomment to test"
   ]
  },
  {
   "cell_type": "code",
   "execution_count": 6,
   "metadata": {},
   "outputs": [
    {
     "name": "stdout",
     "output_type": "stream",
     "text": [
      "{606: array([2., 2., 2.]), 607: array([-2., -2., -2.])}\n",
      "{7001: array([1., 1., 1.]), 9012: array([-4., -3., -1.]), 4103: array([4., 3., 1.]), 5054: array([3., 3., 3.])}\n",
      "{1: [7001, 5054], 2: [4103], 3: [9012]}\n"
     ]
    }
   ],
   "source": [
    "import numpy as np\n",
    "\n",
    "example_com_vec_dict = {606: np.array([2., 2., 2.]), 607: np.array([-2., -2., -2.])}\n",
    "example_ans_vec_dict = {7001: np.array([1., 1., 1.]), 9012: np.array([-4., -3., -1.]), 4103: np.array([4., 3., 1.]), 5054: np.array([3., 3., 3.])}\n",
    "rankings = rank_cosine_similarity(example_com_vec_dict[606], example_ans_vec_dict)\n",
    "print(example_com_vec_dict)\n",
    "print(example_ans_vec_dict)\n",
    "print(rankings)"
   ]
  },
  {
   "cell_type": "markdown",
   "metadata": {},
   "source": [
    "### Usage example 2"
   ]
  },
  {
   "cell_type": "markdown",
   "metadata": {},
   "source": [
    "Uncomment to test"
   ]
  },
  {
   "cell_type": "code",
   "execution_count": 5,
   "metadata": {},
   "outputs": [
    {
     "name": "stdout",
     "output_type": "stream",
     "text": [
      "[1165, 1166, 45]\n",
      "[43464438, 90959, 183332, 557046, 1307427, 2341514, 2498271, 2654368, 3555009, 3560415]\n"
     ]
    }
   ],
   "source": [
    "# print(list(com_vec_dict.keys())[:3])\n",
    "# print(list(ans_vec_dict.keys())[:10])"
   ]
  },
  {
   "cell_type": "code",
   "execution_count": 13,
   "metadata": {},
   "outputs": [
    {
     "name": "stdout",
     "output_type": "stream",
     "text": [
      "vector for comment45: [0.         1.24410541 1.21503207 ... 0.         0.         0.        ]\n",
      "Rankings: {rank: answer_ids}\n",
      "{1: [557046], 2: [90959], 3: [43464438], 4: [1307427], 5: [183332]}\n"
     ]
    }
   ],
   "source": [
    "test_com_id = 45\n",
    "related_ans_ids = [43464438, 90959, 183332, 557046, 1307427]\n",
    "\n",
    "test_ans_vec_dict = {k: ans_vec_dict[k] for k in related_ans_ids}\n",
    "rankings = rank_cosine_similarity(com_vec_dict[test_com_id], test_ans_vec_dict)\n",
    "print('vector for comment'+str(test_com_id)+':', com_vec_dict[test_com_id])\n",
    "# print(test_ans_vec_dict)\n",
    "print('Rankings: {rank: answer_ids}')\n",
    "print(rankings)"
   ]
  },
  {
   "cell_type": "code",
   "execution_count": null,
   "metadata": {},
   "outputs": [],
   "source": []
  }
 ],
 "metadata": {
  "kernelspec": {
   "display_name": "Python (tf)",
   "language": "python",
   "name": "tf"
  },
  "language_info": {
   "codemirror_mode": {
    "name": "ipython",
    "version": 3
   },
   "file_extension": ".py",
   "mimetype": "text/x-python",
   "name": "python",
   "nbconvert_exporter": "python",
   "pygments_lexer": "ipython3",
   "version": "3.7.7"
  }
 },
 "nbformat": 4,
 "nbformat_minor": 4
}
